{
 "cells": [
  {
   "cell_type": "code",
   "execution_count": 1,
   "metadata": {},
   "outputs": [],
   "source": [
    "import tensorflow as tf\n",
    "import matplotlib.pyplot as plt"
   ]
  },
  {
   "cell_type": "code",
   "execution_count": 2,
   "metadata": {},
   "outputs": [],
   "source": [
    "m = tf.keras.datasets.mnist\n",
    "(x_train,y_train),(x_test,y_test) = m.load_data()"
   ]
  },
  {
   "cell_type": "code",
   "execution_count": 3,
   "metadata": {},
   "outputs": [
    {
     "data": {
      "text/plain": [
       "<matplotlib.image.AxesImage at 0x14b300d71c8>"
      ]
     },
     "execution_count": 3,
     "metadata": {},
     "output_type": "execute_result"
    },
    {
     "data": {
      "image/png": "[encoded data removed]",
      "text/plain": [
       "<Figure size 432x288 with 1 Axes>"
      ]
     },
     "metadata": {
      "needs_background": "light"
     },
     "output_type": "display_data"
    }
   ],
   "source": [
    "plt.imshow(x_test[1])"
   ]
  },
  {
   "cell_type": "code",
   "execution_count": 4,
   "metadata": {},
   "outputs": [
    {
     "data": {
      "text/plain": [
       "0"
      ]
     },
     "execution_count": 4,
     "metadata": {},
     "output_type": "execute_result"
    }
   ],
   "source": [
    "y_train[1]"
   ]
  },
  {
   "cell_type": "code",
   "execution_count": 5,
   "metadata": {},
   "outputs": [
    {
     "data": {
      "text/plain": [
       "array([[[0, 0, 0, ..., 0, 0, 0],\n",
       "        [0, 0, 0, ..., 0, 0, 0],\n",
       "        [0, 0, 0, ..., 0, 0, 0],\n",
       "        ...,\n",
       "        [0, 0, 0, ..., 0, 0, 0],\n",
       "        [0, 0, 0, ..., 0, 0, 0],\n",
       "        [0, 0, 0, ..., 0, 0, 0]],\n",
       "\n",
       "       [[0, 0, 0, ..., 0, 0, 0],\n",
       "        [0, 0, 0, ..., 0, 0, 0],\n",
       "        [0, 0, 0, ..., 0, 0, 0],\n",
       "        ...,\n",
       "        [0, 0, 0, ..., 0, 0, 0],\n",
       "        [0, 0, 0, ..., 0, 0, 0],\n",
       "        [0, 0, 0, ..., 0, 0, 0]],\n",
       "\n",
       "       [[0, 0, 0, ..., 0, 0, 0],\n",
       "        [0, 0, 0, ..., 0, 0, 0],\n",
       "        [0, 0, 0, ..., 0, 0, 0],\n",
       "        ...,\n",
       "        [0, 0, 0, ..., 0, 0, 0],\n",
       "        [0, 0, 0, ..., 0, 0, 0],\n",
       "        [0, 0, 0, ..., 0, 0, 0]],\n",
       "\n",
       "       ...,\n",
       "\n",
       "       [[0, 0, 0, ..., 0, 0, 0],\n",
       "        [0, 0, 0, ..., 0, 0, 0],\n",
       "        [0, 0, 0, ..., 0, 0, 0],\n",
       "        ...,\n",
       "        [0, 0, 0, ..., 0, 0, 0],\n",
       "        [0, 0, 0, ..., 0, 0, 0],\n",
       "        [0, 0, 0, ..., 0, 0, 0]],\n",
       "\n",
       "       [[0, 0, 0, ..., 0, 0, 0],\n",
       "        [0, 0, 0, ..., 0, 0, 0],\n",
       "        [0, 0, 0, ..., 0, 0, 0],\n",
       "        ...,\n",
       "        [0, 0, 0, ..., 0, 0, 0],\n",
       "        [0, 0, 0, ..., 0, 0, 0],\n",
       "        [0, 0, 0, ..., 0, 0, 0]],\n",
       "\n",
       "       [[0, 0, 0, ..., 0, 0, 0],\n",
       "        [0, 0, 0, ..., 0, 0, 0],\n",
       "        [0, 0, 0, ..., 0, 0, 0],\n",
       "        ...,\n",
       "        [0, 0, 0, ..., 0, 0, 0],\n",
       "        [0, 0, 0, ..., 0, 0, 0],\n",
       "        [0, 0, 0, ..., 0, 0, 0]]], dtype=uint8)"
      ]
     },
     "execution_count": 5,
     "metadata": {},
     "output_type": "execute_result"
    }
   ],
   "source": [
    "x_train"
   ]
  },
  {
   "cell_type": "code",
   "execution_count": 6,
   "metadata": {},
   "outputs": [
    {
     "data": {
      "text/plain": [
       "array([5, 0, 4, ..., 5, 6, 8], dtype=uint8)"
      ]
     },
     "execution_count": 6,
     "metadata": {},
     "output_type": "execute_result"
    }
   ],
   "source": [
    "y_train"
   ]
  },
  {
   "cell_type": "code",
   "execution_count": 7,
   "metadata": {},
   "outputs": [
    {
     "data": {
      "text/plain": [
       "5"
      ]
     },
     "execution_count": 7,
     "metadata": {},
     "output_type": "execute_result"
    }
   ],
   "source": [
    "y_train[0]"
   ]
  },
  {
   "cell_type": "code",
   "execution_count": 8,
   "metadata": {},
   "outputs": [
    {
     "data": {
      "image/png": "[encoded data removed]",
      "text/plain": [
       "<Figure size 432x288 with 20 Axes>"
      ]
     },
     "metadata": {
      "needs_background": "light"
     },
     "output_type": "display_data"
    }
   ],
   "source": [
    "#fig = plt.figure()\n",
    "for i in range(20):\n",
    "    plt.subplot(4,5,i+1)\n",
    "    plt.tight_layout()\n",
    "    plt.imshow(x_train[i],cmap='gray')\n",
    "    plt.title(\"Digit : {}\".format(y_train[i]))\n",
    "    "
   ]
  },
  {
   "cell_type": "code",
   "execution_count": 9,
   "metadata": {},
   "outputs": [
    {
     "data": {
      "text/plain": [
       "(60000, 28, 28)"
      ]
     },
     "execution_count": 9,
     "metadata": {},
     "output_type": "execute_result"
    }
   ],
   "source": [
    "x_train.shape"
   ]
  },
  {
   "cell_type": "code",
   "execution_count": 10,
   "metadata": {},
   "outputs": [
    {
     "name": "stdout",
     "output_type": "stream",
     "text": [
      "X_train shape: (60000, 28, 28, 1)\n"
     ]
    }
   ],
   "source": [
    "img_rows = 28\n",
    "img_cols = 28\n",
    "if tf.keras.backend.image_data_format() == 'channels_first':\n",
    "    x_train = x_train.reshape(x_train.shape[0], 1, img_rows, img_cols)\n",
    "    x_test = x_test.reshape(x_test.shape[0], 1, img_rows, img_cols)\n",
    "    input_shape = (1, img_rows, img_cols)\n",
    "else:\n",
    "    x_train = x_train.reshape(x_train.shape[0], img_rows, img_cols, 1)\n",
    "    x_test = x_test.reshape(x_test.shape[0], img_rows, img_cols, 1)\n",
    "    input_shape = (img_rows, img_cols, 1)\n",
    "\n",
    "x_train = x_train.astype('float32')\n",
    "x_test = x_test.astype('float32')\n",
    "x_train /= 255\n",
    "x_test /= 255\n",
    "print('X_train shape:', x_train.shape) "
   ]
  },
  {
   "cell_type": "code",
   "execution_count": 35,
   "metadata": {},
   "outputs": [],
   "source": [
    "y_train = tf.keras.utils.to_categorical(y_train,10)\n",
    "y_test = tf.keras.utils.to_categorical(y_test,10)"
   ]
  },
  {
   "cell_type": "code",
   "execution_count": 36,
   "metadata": {},
   "outputs": [
    {
     "data": {
      "text/plain": [
       "array([[0., 1., 0., 0., 0., 0., 0., 0., 0., 0.],\n",
       "       [1., 0., 0., 0., 0., 0., 0., 0., 0., 0.],\n",
       "       [1., 0., 0., 0., 0., 0., 0., 0., 0., 0.],\n",
       "       [1., 0., 0., 0., 0., 0., 0., 0., 0., 0.],\n",
       "       [1., 0., 0., 0., 0., 0., 0., 0., 0., 0.],\n",
       "       [1., 0., 0., 0., 0., 0., 0., 0., 0., 0.],\n",
       "       [1., 0., 0., 0., 0., 0., 0., 0., 0., 0.],\n",
       "       [1., 0., 0., 0., 0., 0., 0., 0., 0., 0.],\n",
       "       [1., 0., 0., 0., 0., 0., 0., 0., 0., 0.],\n",
       "       [1., 0., 0., 0., 0., 0., 0., 0., 0., 0.]], dtype=float32)"
      ]
     },
     "execution_count": 36,
     "metadata": {},
     "output_type": "execute_result"
    }
   ],
   "source": [
    "y_train[1]"
   ]
  },
  {
   "cell_type": "code",
   "execution_count": 37,
   "metadata": {},
   "outputs": [
    {
     "data": {
      "text/plain": [
       "array([[1., 0., 0., 0., 0., 0., 0., 0., 0., 0.],\n",
       "       [1., 0., 0., 0., 0., 0., 0., 0., 0., 0.],\n",
       "       [1., 0., 0., 0., 0., 0., 0., 0., 0., 0.],\n",
       "       [1., 0., 0., 0., 0., 0., 0., 0., 0., 0.],\n",
       "       [1., 0., 0., 0., 0., 0., 0., 0., 0., 0.],\n",
       "       [0., 1., 0., 0., 0., 0., 0., 0., 0., 0.],\n",
       "       [1., 0., 0., 0., 0., 0., 0., 0., 0., 0.],\n",
       "       [1., 0., 0., 0., 0., 0., 0., 0., 0., 0.],\n",
       "       [1., 0., 0., 0., 0., 0., 0., 0., 0., 0.],\n",
       "       [1., 0., 0., 0., 0., 0., 0., 0., 0., 0.]], dtype=float32)"
      ]
     },
     "execution_count": 37,
     "metadata": {},
     "output_type": "execute_result"
    }
   ],
   "source": [
    "y_train[0]"
   ]
  },
  {
   "cell_type": "code",
   "execution_count": 14,
   "metadata": {},
   "outputs": [],
   "source": [
    "#x_train = tf.keras.utils.normalize(x_train,axis = 1)\n",
    "#x_test = tf.keras.utils.normalize(x_test,axis = 1)"
   ]
  },
  {
   "cell_type": "code",
   "execution_count": 15,
   "metadata": {},
   "outputs": [
    {
     "data": {
      "text/plain": [
       "(60000, 28, 28, 1)"
      ]
     },
     "execution_count": 15,
     "metadata": {},
     "output_type": "execute_result"
    }
   ],
   "source": [
    "x_train.shape"
   ]
  },
  {
   "cell_type": "code",
   "execution_count": 16,
   "metadata": {},
   "outputs": [
    {
     "data": {
      "text/plain": [
       "(28, 28, 1)"
      ]
     },
     "execution_count": 16,
     "metadata": {},
     "output_type": "execute_result"
    }
   ],
   "source": [
    "input_shape"
   ]
  },
  {
   "cell_type": "code",
   "execution_count": 17,
   "metadata": {},
   "outputs": [],
   "source": [
    "model = tf.keras.models.Sequential()\n",
    "\n",
    "model.add(tf.keras.layers.Conv2D(32,kernel_size=(3,3),activation = 'relu',input_shape = input_shape))\n",
    "model.add(tf.keras.layers.Conv2D(64,kernel_size=(3,3),activation='relu'))\n",
    "\n",
    "model.add(tf.keras.layers.MaxPooling2D(pool_size=(2,2)))\n",
    "\n",
    "model.add(tf.keras.layers.Dropout(0.25))\n",
    "\n",
    "model.add(tf.keras.layers.Flatten())\n",
    "\n",
    "model.add(tf.keras.layers.Dense(128,activation = 'relu'))\n",
    "\n",
    "model.add(tf.keras.layers.Dropout(0.5))\n",
    "\n",
    "model.add(tf.keras.layers.Dense(10,activation='softmax'))\n"
   ]
  },
  {
   "cell_type": "code",
   "execution_count": 18,
   "metadata": {},
   "outputs": [],
   "source": [
    "model.compile(optimizer = tf.keras.optimizers.Adadelta(), loss = tf.keras.losses.categorical_crossentropy,metrics = ['accuracy'])"
   ]
  },
  {
   "cell_type": "code",
   "execution_count": 24,
   "metadata": {
    "scrolled": true
   },
   "outputs": [
    {
     "name": "stdout",
     "output_type": "stream",
     "text": [
      "Train on 60000 samples, validate on 10000 samples\n",
      "Epoch 1/50\n",
      "60000/60000 [==============================] - 28s 459us/sample - loss: 1.0906 - accuracy: 0.6779 - val_loss: 0.8420 - val_accuracy: 0.8197\n",
      "Epoch 2/50\n",
      "60000/60000 [==============================] - 28s 458us/sample - loss: 1.0149 - accuracy: 0.6976 - val_loss: 0.7643 - val_accuracy: 0.8288\n",
      "Epoch 3/50\n",
      "60000/60000 [==============================] - 28s 461us/sample - loss: 0.9528 - accuracy: 0.7136 - val_loss: 0.7032 - val_accuracy: 0.8365\n",
      "Epoch 4/50\n",
      "60000/60000 [==============================] - 28s 473us/sample - loss: 0.8964 - accuracy: 0.7269 - val_loss: 0.6533 - val_accuracy: 0.8441\n",
      "Epoch 5/50\n",
      "60000/60000 [==============================] - 28s 459us/sample - loss: 0.8532 - accuracy: 0.7405 - val_loss: 0.6127 - val_accuracy: 0.8506\n",
      "Epoch 6/50\n",
      "60000/60000 [==============================] - 28s 463us/sample - loss: 0.8167 - accuracy: 0.7492 - val_loss: 0.5795 - val_accuracy: 0.8575\n",
      "Epoch 7/50\n",
      "60000/60000 [==============================] - 28s 461us/sample - loss: 0.7851 - accuracy: 0.7571 - val_loss: 0.5508 - val_accuracy: 0.8628\n",
      "Epoch 8/50\n",
      "60000/60000 [==============================] - 28s 466us/sample - loss: 0.7559 - accuracy: 0.7685 - val_loss: 0.5267 - val_accuracy: 0.8670\n",
      "Epoch 9/50\n",
      "60000/60000 [==============================] - 28s 461us/sample - loss: 0.7306 - accuracy: 0.7752 - val_loss: 0.5049 - val_accuracy: 0.8727\n",
      "Epoch 10/50\n",
      "60000/60000 [==============================] - 28s 466us/sample - loss: 0.7077 - accuracy: 0.7833 - val_loss: 0.4864 - val_accuracy: 0.8756\n",
      "Epoch 11/50\n",
      "60000/60000 [==============================] - 27s 451us/sample - loss: 0.6903 - accuracy: 0.7856 - val_loss: 0.4701 - val_accuracy: 0.8781\n",
      "Epoch 12/50\n",
      "60000/60000 [==============================] - 28s 462us/sample - loss: 0.6660 - accuracy: 0.7958 - val_loss: 0.4552 - val_accuracy: 0.8809\n",
      "Epoch 13/50\n",
      "60000/60000 [==============================] - 28s 458us/sample - loss: 0.6534 - accuracy: 0.7997 - val_loss: 0.4424 - val_accuracy: 0.8850\n",
      "Epoch 14/50\n",
      "60000/60000 [==============================] - 28s 465us/sample - loss: 0.6385 - accuracy: 0.8034 - val_loss: 0.4305 - val_accuracy: 0.8866\n",
      "Epoch 15/50\n",
      "60000/60000 [==============================] - 28s 461us/sample - loss: 0.6259 - accuracy: 0.8084 - val_loss: 0.4203 - val_accuracy: 0.8889\n",
      "Epoch 16/50\n",
      "60000/60000 [==============================] - 28s 463us/sample - loss: 0.6146 - accuracy: 0.8100 - val_loss: 0.4107 - val_accuracy: 0.8906\n",
      "Epoch 17/50\n",
      "60000/60000 [==============================] - 28s 461us/sample - loss: 0.6046 - accuracy: 0.8138 - val_loss: 0.4013 - val_accuracy: 0.8927\n",
      "Epoch 18/50\n",
      "60000/60000 [==============================] - 28s 462us/sample - loss: 0.5897 - accuracy: 0.8195 - val_loss: 0.3930 - val_accuracy: 0.8945\n",
      "Epoch 19/50\n",
      "60000/60000 [==============================] - 28s 461us/sample - loss: 0.5786 - accuracy: 0.8220 - val_loss: 0.3855 - val_accuracy: 0.8950\n",
      "Epoch 20/50\n",
      "60000/60000 [==============================] - 28s 467us/sample - loss: 0.5767 - accuracy: 0.8240 - val_loss: 0.3785 - val_accuracy: 0.8972\n",
      "Epoch 21/50\n",
      "60000/60000 [==============================] - 27s 454us/sample - loss: 0.5618 - accuracy: 0.8294 - val_loss: 0.3715 - val_accuracy: 0.8988\n",
      "Epoch 22/50\n",
      "60000/60000 [==============================] - 28s 465us/sample - loss: 0.5544 - accuracy: 0.8297 - val_loss: 0.3661 - val_accuracy: 0.8998\n",
      "Epoch 23/50\n",
      "60000/60000 [==============================] - 28s 461us/sample - loss: 0.5466 - accuracy: 0.8310 - val_loss: 0.3596 - val_accuracy: 0.9013\n",
      "Epoch 24/50\n",
      "60000/60000 [==============================] - 28s 466us/sample - loss: 0.5397 - accuracy: 0.8345 - val_loss: 0.3545 - val_accuracy: 0.9038\n",
      "Epoch 25/50\n",
      "60000/60000 [==============================] - 28s 461us/sample - loss: 0.5329 - accuracy: 0.8367 - val_loss: 0.3492 - val_accuracy: 0.9049\n",
      "Epoch 26/50\n",
      "60000/60000 [==============================] - 28s 467us/sample - loss: 0.5287 - accuracy: 0.8388 - val_loss: 0.3446 - val_accuracy: 0.9049\n",
      "Epoch 27/50\n",
      "60000/60000 [==============================] - 28s 461us/sample - loss: 0.5200 - accuracy: 0.8404 - val_loss: 0.3399 - val_accuracy: 0.9064\n",
      "Epoch 28/50\n",
      "60000/60000 [==============================] - 28s 471us/sample - loss: 0.5148 - accuracy: 0.8409 - val_loss: 0.3354 - val_accuracy: 0.9072\n",
      "Epoch 29/50\n",
      "60000/60000 [==============================] - 28s 464us/sample - loss: 0.5106 - accuracy: 0.8433 - val_loss: 0.3315 - val_accuracy: 0.9079\n",
      "Epoch 30/50\n",
      "60000/60000 [==============================] - 28s 473us/sample - loss: 0.5032 - accuracy: 0.8463 - val_loss: 0.3274 - val_accuracy: 0.9089\n",
      "Epoch 31/50\n",
      "60000/60000 [==============================] - 28s 461us/sample - loss: 0.4975 - accuracy: 0.8490 - val_loss: 0.3234 - val_accuracy: 0.9097\n",
      "Epoch 32/50\n",
      "60000/60000 [==============================] - 28s 466us/sample - loss: 0.4947 - accuracy: 0.8487 - val_loss: 0.3201 - val_accuracy: 0.9111\n",
      "Epoch 33/50\n",
      "60000/60000 [==============================] - 28s 461us/sample - loss: 0.4896 - accuracy: 0.8494 - val_loss: 0.3168 - val_accuracy: 0.9113\n",
      "Epoch 34/50\n",
      "60000/60000 [==============================] - 28s 467us/sample - loss: 0.4841 - accuracy: 0.8542 - val_loss: 0.3135 - val_accuracy: 0.9114\n",
      "Epoch 35/50\n",
      "60000/60000 [==============================] - 28s 461us/sample - loss: 0.4806 - accuracy: 0.8540 - val_loss: 0.3104 - val_accuracy: 0.9124\n",
      "Epoch 36/50\n",
      "60000/60000 [==============================] - 28s 467us/sample - loss: 0.4750 - accuracy: 0.8549 - val_loss: 0.3076 - val_accuracy: 0.9134\n",
      "Epoch 37/50\n",
      "60000/60000 [==============================] - 28s 461us/sample - loss: 0.4726 - accuracy: 0.8581 - val_loss: 0.3047 - val_accuracy: 0.9134\n",
      "Epoch 38/50\n",
      "60000/60000 [==============================] - 28s 467us/sample - loss: 0.4646 - accuracy: 0.8591 - val_loss: 0.3017 - val_accuracy: 0.9145\n",
      "Epoch 39/50\n",
      "60000/60000 [==============================] - 28s 460us/sample - loss: 0.4669 - accuracy: 0.8583 - val_loss: 0.2989 - val_accuracy: 0.9155\n",
      "Epoch 40/50\n",
      "60000/60000 [==============================] - 28s 466us/sample - loss: 0.4641 - accuracy: 0.8590 - val_loss: 0.2964 - val_accuracy: 0.9161\n",
      "Epoch 41/50\n",
      "60000/60000 [==============================] - 28s 460us/sample - loss: 0.4564 - accuracy: 0.8621 - val_loss: 0.2937 - val_accuracy: 0.9165\n",
      "Epoch 42/50\n",
      "60000/60000 [==============================] - 28s 466us/sample - loss: 0.4536 - accuracy: 0.8620 - val_loss: 0.2911 - val_accuracy: 0.9175\n",
      "Epoch 43/50\n",
      "60000/60000 [==============================] - 28s 460us/sample - loss: 0.4518 - accuracy: 0.8635 - val_loss: 0.2889 - val_accuracy: 0.9178\n",
      "Epoch 44/50\n",
      "60000/60000 [==============================] - 28s 466us/sample - loss: 0.4481 - accuracy: 0.8640 - val_loss: 0.2867 - val_accuracy: 0.9188\n",
      "Epoch 45/50\n",
      "60000/60000 [==============================] - 28s 460us/sample - loss: 0.4429 - accuracy: 0.8666 - val_loss: 0.2844 - val_accuracy: 0.9187\n",
      "Epoch 46/50\n",
      "60000/60000 [==============================] - 28s 467us/sample - loss: 0.4425 - accuracy: 0.8661 - val_loss: 0.2820 - val_accuracy: 0.9194\n",
      "Epoch 47/50\n",
      "60000/60000 [==============================] - 28s 461us/sample - loss: 0.4406 - accuracy: 0.8668 - val_loss: 0.2798 - val_accuracy: 0.9193\n",
      "Epoch 48/50\n",
      "60000/60000 [==============================] - 28s 467us/sample - loss: 0.4351 - accuracy: 0.8680 - val_loss: 0.2774 - val_accuracy: 0.9204\n",
      "Epoch 49/50\n",
      "60000/60000 [==============================] - 28s 461us/sample - loss: 0.4297 - accuracy: 0.8690 - val_loss: 0.2754 - val_accuracy: 0.9200\n",
      "Epoch 50/50\n",
      "60000/60000 [==============================] - 28s 466us/sample - loss: 0.4306 - accuracy: 0.8703 - val_loss: 0.2737 - val_accuracy: 0.9203\n"
     ]
    }
   ],
   "source": [
    "model_log = model.fit(x_train,y_train,batch_size = 128,epochs = 50,verbose = 1,validation_data = (x_test,y_test))"
   ]
  },
  {
   "cell_type": "code",
   "execution_count": 25,
   "metadata": {},
   "outputs": [
    {
     "data": {
      "image/png": "[encoded data removed]",
      "text/plain": [
       "<Figure size 432x288 with 2 Axes>"
      ]
     },
     "execution_count": 25,
     "metadata": {},
     "output_type": "execute_result"
    },
    {
     "data": {
      "image/png": "[encoded data removed]",
      "text/plain": [
       "<Figure size 432x288 with 2 Axes>"
      ]
     },
     "metadata": {
      "needs_background": "light"
     },
     "output_type": "display_data"
    }
   ],
   "source": [
    "import os\n",
    "# plotting the metrics\n",
    "fig = plt.figure()\n",
    "plt.subplot(2,1,1)\n",
    "plt.plot(model_log.history['accuracy'])\n",
    "plt.plot(model_log.history['val_accuracy'])\n",
    "plt.title('model accuracy')\n",
    "plt.ylabel('accuracy')\n",
    "plt.xlabel('epoch')\n",
    "plt.legend(['train', 'test'], loc='lower right')\n",
    "plt.subplot(2,1,2)\n",
    "plt.plot(model_log.history['loss'])\n",
    "plt.plot(model_log.history['val_loss'])\n",
    "plt.title('model loss')\n",
    "plt.ylabel('loss')\n",
    "plt.xlabel('epoch')\n",
    "plt.legend(['train', 'test'], loc='upper right')\n",
    "plt.tight_layout()\n",
    "fig"
   ]
  },
  {
   "cell_type": "code",
   "execution_count": 26,
   "metadata": {},
   "outputs": [
    {
     "data": {
      "text/plain": [
       "array([[3.5468893e-05, 1.1598655e-06, 4.3912583e-05, ..., 9.9897087e-01,\n",
       "        2.6008562e-05, 5.9756974e-04],\n",
       "       [3.9682747e-03, 2.7317560e-04, 9.6997100e-01, ..., 2.5040794e-07,\n",
       "        3.9949650e-03, 1.9092919e-07],\n",
       "       [9.2351920e-04, 9.8490638e-01, 3.7403740e-03, ..., 2.4949075e-03,\n",
       "        2.9575762e-03, 3.9168214e-04],\n",
       "       ...,\n",
       "       [1.6100073e-04, 2.2430274e-04, 2.1512824e-04, ..., 1.2919814e-02,\n",
       "        1.2671420e-02, 9.6672416e-02],\n",
       "       [6.3536861e-03, 2.4809123e-03, 6.4458867e-04, ..., 8.1367977e-04,\n",
       "        2.0913933e-01, 5.5260293e-04],\n",
       "       [1.2520273e-04, 2.9744521e-07, 2.3722262e-04, ..., 2.9514626e-07,\n",
       "        1.6029164e-06, 1.8846927e-07]], dtype=float32)"
      ]
     },
     "execution_count": 26,
     "metadata": {},
     "output_type": "execute_result"
    }
   ],
   "source": [
    "pred = model.predict(x_test)\n",
    "pred"
   ]
  },
  {
   "cell_type": "code",
   "execution_count": 27,
   "metadata": {},
   "outputs": [
    {
     "data": {
      "text/plain": [
       "0"
      ]
     },
     "execution_count": 27,
     "metadata": {},
     "output_type": "execute_result"
    }
   ],
   "source": [
    "import numpy as np\n",
    "np.argmax(pred[3])"
   ]
  },
  {
   "cell_type": "code",
   "execution_count": 40,
   "metadata": {},
   "outputs": [
    {
     "data": {
      "text/plain": [
       "(28, 28, 1)"
      ]
     },
     "execution_count": 40,
     "metadata": {},
     "output_type": "execute_result"
    }
   ],
   "source": [
    "x_test[3].shape"
   ]
  },
  {
   "cell_type": "code",
   "execution_count": 41,
   "metadata": {},
   "outputs": [
    {
     "data": {
      "text/plain": [
       "array([3.5468893e-05, 1.1598655e-06, 4.3912583e-05, 2.8503875e-04,\n",
       "       2.4029294e-05, 1.2061470e-05, 3.8781754e-06, 9.9897087e-01,\n",
       "       2.6008562e-05, 5.9756974e-04], dtype=float32)"
      ]
     },
     "execution_count": 41,
     "metadata": {},
     "output_type": "execute_result"
    }
   ],
   "source": [
    "pred[0]"
   ]
  },
  {
   "cell_type": "code",
   "execution_count": 44,
   "metadata": {},
   "outputs": [
    {
     "data": {
      "text/plain": [
       "<BarContainer object of 10 artists>"
      ]
     },
     "execution_count": 44,
     "metadata": {},
     "output_type": "execute_result"
    },
    {
     "data": {
      "image/png": "[encoded data removed]",
      "text/plain": [
       "<Figure size 432x288 with 1 Axes>"
      ]
     },
     "metadata": {
      "needs_background": "light"
     },
     "output_type": "display_data"
    }
   ],
   "source": [
    "x = list(range(0,10))\n",
    "#y = pred[]\n",
    "plt.bar(pred[3],10)"
   ]
  },
  {
   "cell_type": "code",
   "execution_count": 49,
   "metadata": {},
   "outputs": [
    {
     "data": {
      "text/plain": [
       "['a']"
      ]
     },
     "execution_count": 49,
     "metadata": {},
     "output_type": "execute_result"
    }
   ],
   "source": [
    "l = ['a','']\n",
    "l.remove('')\n",
    "l"
   ]
  },
  {
   "cell_type": "code",
   "execution_count": null,
   "metadata": {},
   "outputs": [],
   "source": []
  }
 ],
 "metadata": {
  "kernelspec": {
   "display_name": "Python 3",
   "language": "python",
   "name": "python3"
  },
  "language_info": {
   "codemirror_mode": {
    "name": "ipython",
    "version": 3
   },
   "file_extension": ".py",
   "mimetype": "text/x-python",
   "name": "python",
   "nbconvert_exporter": "python",
   "pygments_lexer": "ipython3",
   "version": "3.7.4"
  }
 },
 "nbformat": 4,
 "nbformat_minor": 2
}
